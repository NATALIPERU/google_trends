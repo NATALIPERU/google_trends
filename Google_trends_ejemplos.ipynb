{
  "nbformat": 4,
  "nbformat_minor": 0,
  "metadata": {
    "colab": {
      "provenance": []
    },
    "kernelspec": {
      "name": "python3",
      "display_name": "Python 3"
    },
    "language_info": {
      "name": "python"
    }
  },
  "cells": [
    {
      "cell_type": "code",
      "execution_count": 1,
      "metadata": {
        "id": "grN4GM7OdekS",
        "colab": {
          "base_uri": "https://localhost:8080/"
        },
        "outputId": "9f8e8193-1482-419e-aeb5-d3b1214e2985"
      },
      "outputs": [
        {
          "output_type": "stream",
          "name": "stdout",
          "text": [
            "Collecting pytrends\n",
            "  Downloading pytrends-4.9.2-py3-none-any.whl.metadata (13 kB)\n",
            "Requirement already satisfied: requests>=2.0 in /usr/local/lib/python3.10/dist-packages (from pytrends) (2.32.3)\n",
            "Requirement already satisfied: pandas>=0.25 in /usr/local/lib/python3.10/dist-packages (from pytrends) (2.2.2)\n",
            "Requirement already satisfied: lxml in /usr/local/lib/python3.10/dist-packages (from pytrends) (4.9.4)\n",
            "Requirement already satisfied: numpy>=1.22.4 in /usr/local/lib/python3.10/dist-packages (from pandas>=0.25->pytrends) (1.26.4)\n",
            "Requirement already satisfied: python-dateutil>=2.8.2 in /usr/local/lib/python3.10/dist-packages (from pandas>=0.25->pytrends) (2.8.2)\n",
            "Requirement already satisfied: pytz>=2020.1 in /usr/local/lib/python3.10/dist-packages (from pandas>=0.25->pytrends) (2024.2)\n",
            "Requirement already satisfied: tzdata>=2022.7 in /usr/local/lib/python3.10/dist-packages (from pandas>=0.25->pytrends) (2024.2)\n",
            "Requirement already satisfied: charset-normalizer<4,>=2 in /usr/local/lib/python3.10/dist-packages (from requests>=2.0->pytrends) (3.4.0)\n",
            "Requirement already satisfied: idna<4,>=2.5 in /usr/local/lib/python3.10/dist-packages (from requests>=2.0->pytrends) (3.10)\n",
            "Requirement already satisfied: urllib3<3,>=1.21.1 in /usr/local/lib/python3.10/dist-packages (from requests>=2.0->pytrends) (2.2.3)\n",
            "Requirement already satisfied: certifi>=2017.4.17 in /usr/local/lib/python3.10/dist-packages (from requests>=2.0->pytrends) (2024.8.30)\n",
            "Requirement already satisfied: six>=1.5 in /usr/local/lib/python3.10/dist-packages (from python-dateutil>=2.8.2->pandas>=0.25->pytrends) (1.16.0)\n",
            "Downloading pytrends-4.9.2-py3-none-any.whl (15 kB)\n",
            "Installing collected packages: pytrends\n",
            "Successfully installed pytrends-4.9.2\n"
          ]
        }
      ],
      "source": [
        "!pip install pytrends\n"
      ]
    },
    {
      "cell_type": "code",
      "source": [
        "from pytrends.request import TrendReq\n",
        "from pylab import rcParams\n",
        "from ipywidgets import interact, interactive, fixed, interact_manual\n",
        "\n",
        "import warnings\n",
        "import itertools\n",
        "import numpy as np\n",
        "import matplotlib.pyplot as plt\n",
        "\n",
        "import ipywidgets as widgets\n",
        "import pandas as pd\n",
        "import statsmodels.api as sm\n",
        "import matplotlib\n",
        "import pandas as pd\n",
        "import plotly.offline as py\n",
        "import plotly.graph_objs as go\n",
        "import seaborn as sns\n",
        "\n",
        "plt.rcParams.update({'font.size': 9})\n",
        "\n",
        "sns.set(style=\"darkgrid\")\n",
        "\n",
        "pytrend = TrendReq()"
      ],
      "metadata": {
        "id": "LEWJSQ0Oj_U2"
      },
      "execution_count": 2,
      "outputs": []
    },
    {
      "cell_type": "code",
      "source": [
        "def get_google_trends_data(list_product, time_start, time_end, state=None, country='PE'):\n",
        "    if state:\n",
        "        sigla='{}-{}'.format(country, state)\n",
        "    else:\n",
        "        sigla='{}'.format(country)\n",
        "\n",
        "    data_composer = '{} {}'.format(time_start, time_end)\n",
        "    pytrend.build_payload(kw_list=list_product,\n",
        "                                  geo=sigla,\n",
        "                                  cat=0,\n",
        "                                  timeframe=data_composer)\n",
        "\n",
        "    return pytrend.interest_over_time()"
      ],
      "metadata": {
        "id": "fbtmSbG4LBIl"
      },
      "execution_count": 4,
      "outputs": []
    },
    {
      "cell_type": "code",
      "source": [
        "def get_trends_data(samples, industry_label, start_date, end_date):\n",
        "    list_product = samples['sample']\n",
        "    dataset = get_google_trends_data(list_product=list_product, time_start=start_date, time_end=end_date)\n",
        "    dataset = dataset.reset_index()\n",
        "    dataset['Tipo'] = industry_label\n",
        "    return dataset\n",
        "\n",
        "# Definir los samples y extraer los datos\n",
        "test_samples1 = {'sample': [\"Keiko Fujimori\", \"Antauro Humala\", \"César Acuña\", \"Verónika Mendoza\", \"Hernando de Soto\"]}\n",
        "test_samples2 = {'sample': [\"Corrupción\", \"Economía\", \"Etnocacerismo\", \"Reforma agraria\", \"Libertad de expresión\"]}\n",
        "test_samples3 = {'sample': [\"El Comercio\", \"RPP\", \"La República\", \"América TV\", \"Perú 21\"]}\n",
        "test_samples4 = {'sample': [\"yape\", \"plin\", \"bim\", \"tunki\"]}\n",
        "\n",
        "\n",
        "dataset1 = get_trends_data(test_samples1, 'Canditatos', '2020-01-01', '2024-09-30')\n",
        "dataset2 = get_trends_data(test_samples2, 'Palabras relacionadas a Canditados', '2020-01-01', '2024-09-30')\n",
        "dataset3 = get_trends_data(test_samples3, 'Publicidad', '2020-01-01', '2024-09-30')\n",
        "dataset4 = get_trends_data(test_samples4, 'Billetera Digital', '2020-01-01', '2024-09-30')\n",
        "\n",
        "# Concatenar ambos DataFrames en uno solo\n",
        "final_dataset = pd.concat([dataset1, dataset2, dataset3, dataset4], ignore_index=True)\n",
        "\n",
        "# Convertir a formato largo usando melt y mantener 'Tipo'\n",
        "df_google_trends = final_dataset.melt(id_vars=['date', 'Tipo'], var_name='term', value_name='score')\n",
        "\n",
        "# Eliminar la columna 'isPartial' y filas con valores nulos\n",
        "df_google_trends = df_google_trends[df_google_trends['term'] != 'isPartial'].dropna(subset=['score'])\n",
        "\n",
        "# Mostrar la nueva estructura\n",
        "print(df_google_trends)\n",
        "\n",
        "# Exportar a CSV si es necesario\n",
        "df_google_trends.to_csv('df_google_trends_final.csv', sep=',', index=False)"
      ],
      "metadata": {
        "colab": {
          "base_uri": "https://localhost:8080/"
        },
        "id": "WqWoVxeZKrTT",
        "outputId": "cae40bac-5658-4276-cf36-1288591b2583"
      },
      "execution_count": 5,
      "outputs": [
        {
          "output_type": "stream",
          "name": "stdout",
          "text": [
            "            date               Tipo            term score\n",
            "0     2019-12-29         Canditatos  Keiko Fujimori  17.0\n",
            "1     2020-01-05         Canditatos  Keiko Fujimori  10.0\n",
            "2     2020-01-12         Canditatos  Keiko Fujimori   8.0\n",
            "3     2020-01-19         Canditatos  Keiko Fujimori   8.0\n",
            "4     2020-01-26         Canditatos  Keiko Fujimori  42.0\n",
            "...          ...                ...             ...   ...\n",
            "19915 2024-09-01  Billetera Digital           tunki   1.0\n",
            "19916 2024-09-08  Billetera Digital           tunki   1.0\n",
            "19917 2024-09-15  Billetera Digital           tunki   1.0\n",
            "19918 2024-09-22  Billetera Digital           tunki   1.0\n",
            "19919 2024-09-29  Billetera Digital           tunki   1.0\n",
            "\n",
            "[4731 rows x 4 columns]\n"
          ]
        }
      ]
    }
  ]
}